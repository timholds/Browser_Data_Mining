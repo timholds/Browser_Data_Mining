{
 "cells": [
  {
   "cell_type": "code",
   "execution_count": null,
   "metadata": {
    "collapsed": false
   },
   "outputs": [],
   "source": [
    "import pandas as pd\n",
    "from pandas.io.json import json_normalize\n",
    "import json\n",
    "import time\n",
    "\n",
    "data = pd.read_json(\"Chrome_Data/Chrome/BrowserHistory2.json\")\n",
    "print(data.head())"
   ]
  },
  {
   "cell_type": "code",
   "execution_count": null,
   "metadata": {
    "collapsed": false,
    "scrolled": false
   },
   "outputs": [],
   "source": [
    "#create a new dataframe and drop unwanted columns \n",
    "dataframe = data.drop(['client_id', 'favicon_url'], 1)\n",
    "\n",
    "#put rows in chronological order\n",
    "#dataframe = dataframe.set_index(['time_usec'])\n",
    "df = dataframe.sort_index()\n",
    "df.head()"
   ]
  },
  {
   "cell_type": "code",
   "execution_count": null,
   "metadata": {
    "collapsed": false
   },
   "outputs": [],
   "source": [
    "print(len(df))\n",
    "print(df.iloc[0]['time_usec'])"
   ]
  },
  {
   "cell_type": "code",
   "execution_count": null,
   "metadata": {
    "collapsed": false
   },
   "outputs": [],
   "source": [
    "print(type(df[['time_usec']]))\n",
    "print(type(df['time_usec']))"
   ]
  },
  {
   "cell_type": "code",
   "execution_count": null,
   "metadata": {
    "collapsed": false
   },
   "outputs": [],
   "source": [
    "for i in range(len(df)):\n",
    "    df.iloc[i]['Date Time'] = time.strftime('%Y-%m-%d %H:%M:%S', time.localtime(df.iloc[i]['time_usec']))\n",
    "print(df['Date Time'].head())"
   ]
  },
  {
   "cell_type": "code",
   "execution_count": null,
   "metadata": {
    "collapsed": false
   },
   "outputs": [],
   "source": [
    "df['time_usec'] = df['time_usec'].apply(lambda x: time.strftime('%Y-%m-%d %H:%M:%S', time.localtime(x)))"
   ]
  },
  {
   "cell_type": "code",
   "execution_count": null,
   "metadata": {
    "collapsed": true
   },
   "outputs": [],
   "source": []
  },
  {
   "cell_type": "code",
   "execution_count": null,
   "metadata": {
    "collapsed": false
   },
   "outputs": [],
   "source": []
  },
  {
   "cell_type": "code",
   "execution_count": null,
   "metadata": {
    "collapsed": false
   },
   "outputs": [],
   "source": [
    "cols = ['title', 'url', 'page_transition']\n",
    "cols"
   ]
  },
  {
   "cell_type": "code",
   "execution_count": null,
   "metadata": {
    "collapsed": false
   },
   "outputs": [],
   "source": []
  },
  {
   "cell_type": "code",
   "execution_count": null,
   "metadata": {
    "collapsed": true
   },
   "outputs": [],
   "source": [
    "\"\"\"json_string =   {\n",
    "            \"page_transition\": \"LINK\",\n",
    "            \"title\": \"Suspended Tab\",\n",
    "            \"url\": \"chrome-extension:https://www.cs.cmu.edu/~mblum/search/AGTML35.pdf\",\n",
    "            \"client_id\": \"paiNiq/dF5aqAqf2kuEBdA\\u003d\\u003d\",\n",
    "            \"time_usec\": 1478976729525846}\n",
    "\n",
    "\n",
    "parsed_json2 =  {\n",
    "        \"739c5b1cd5681e668f689aa66bcc254c\": {\n",
    "        \"plain\":\"test\",\n",
    "        \"hexplain\":\"74657374\",\n",
    "        \"algorithm\":\"MD5X5PLAIN\"\n",
    "    }\n",
    "}\n",
    "\n",
    "#create a new column with the dates and times from the epoch time data\n",
    "#df['time_usec'] = df['time_usec'].apply(lambda x: time.strftime('%Y-%m-%d %H:%M:%S', time.localtime(x)))\n",
    "for i in range(len(df)):\n",
    "    df['time int'] = pd.to_numeric(df.iloc[i][['time_usec']], errors='coerce')\n",
    "print(df['time int'].head())\n",
    "\n",
    "print(parsed_json2['739c5b1cd5681e668f689aa66bcc254c'])\n",
    "\n",
    "data[['url']]\n",
    "data[['time_usec']]\n",
    "\n",
    "#df = df[[ ['title'], ['url'], ['page_transition']]]\n",
    "df = df[['page_transition', 'title', 'url']]\n",
    "cols = list(df.columns.values)\n",
    "cols\n",
    "\"\"\""
   ]
  }
 ],
 "metadata": {
  "anaconda-cloud": {},
  "kernelspec": {
   "display_name": "Python [conda root]",
   "language": "python",
   "name": "conda-root-py"
  },
  "language_info": {
   "codemirror_mode": {
    "name": "ipython",
    "version": 3
   },
   "file_extension": ".py",
   "mimetype": "text/x-python",
   "name": "python",
   "nbconvert_exporter": "python",
   "pygments_lexer": "ipython3",
   "version": "3.5.2"
  }
 },
 "nbformat": 4,
 "nbformat_minor": 1
}
